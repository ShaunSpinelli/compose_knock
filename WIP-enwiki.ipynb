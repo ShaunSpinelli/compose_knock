{
 "cells": [
  {
   "cell_type": "code",
   "execution_count": 14,
   "metadata": {},
   "outputs": [],
   "source": [
    "import random\n",
    "from IPython.display import FileLink"
   ]
  },
  {
   "cell_type": "code",
   "execution_count": 1,
   "metadata": {},
   "outputs": [
    {
     "name": "stdout",
     "output_type": "stream",
     "text": [
      "archive\t\t\t\t models\t\t  wiki_valid.txt\r\n",
      "fastai\t\t\t\t tmp\t\t  WIP enwiki.ipynb\r\n",
      "jokes_ds.p\t\t\t wiki_en.txt\t  WIP - Jokes.ipynb\r\n",
      "knock_language_model_wiki.ipynb  wiki_processing\r\n",
      "make_train_valid.py\t\t wiki_train.txt\r\n"
     ]
    }
   ],
   "source": [
    "! ls "
   ]
  },
  {
   "cell_type": "code",
   "execution_count": 48,
   "metadata": {},
   "outputs": [
    {
     "data": {
      "text/html": [
       "<a href='wiki_valid.txt' target='_blank'>wiki_valid.txt</a><br>"
      ],
      "text/plain": [
       "/home/ubuntu/compose_knock/wiki_valid.txt"
      ]
     },
     "execution_count": 48,
     "metadata": {},
     "output_type": "execute_result"
    }
   ],
   "source": [
    "FileLink('wiki_valid.txt')"
   ]
  },
  {
   "cell_type": "code",
   "execution_count": 49,
   "metadata": {},
   "outputs": [
    {
     "data": {
      "text/html": [
       "<a href='wiki_train.txt' target='_blank'>wiki_train.txt</a><br>"
      ],
      "text/plain": [
       "/home/ubuntu/compose_knock/wiki_train.txt"
      ]
     },
     "execution_count": 49,
     "metadata": {},
     "output_type": "execute_result"
    }
   ],
   "source": [
    "FileLink('wiki_train.txt')"
   ]
  },
  {
   "cell_type": "code",
   "execution_count": 4,
   "metadata": {},
   "outputs": [],
   "source": [
    "wiki = 'wiki_en.txt'\n",
    "wiki_bz2='enwiki-latest-pages-articles.xml.bz2'"
   ]
  },
  {
   "cell_type": "code",
   "execution_count": 45,
   "metadata": {},
   "outputs": [],
   "source": [
    "train_file = open('training_test.txt', 'wb')\n",
    "valid_file = open('validation_test.txt', 'wb')\n",
    "training_set =[]\n",
    "validation_set=[]\n",
    "\n",
    "\n",
    "with open(wiki, 'rb') as f:\n",
    "    for i in range(100):\n",
    "        if random.random()>.2: #training set\n",
    "            train_file.write(f.readline())\n",
    "            training_set.append(f.readline())\n",
    "        else: #validation set\n",
    "            valid_file.write(f.readline())\n",
    "            validation_set.append(f.readline())\n",
    "    train_file.close()\n",
    "    valid_file.close()"
   ]
  },
  {
   "cell_type": "code",
   "execution_count": 40,
   "metadata": {},
   "outputs": [
    {
     "name": "stdout",
     "output_type": "stream",
     "text": [
      "archive\t\t\t\t tmp\t\t      wiki_en.txt\r\n",
      "fastai\t\t\t\t training_test.txt    wiki_processing\r\n",
      "jokes_ds.p\t\t\t train_test.py\t      WIP.ipynb\r\n",
      "knock_language_model_wiki.ipynb  Untitled.ipynb\r\n",
      "models\t\t\t\t validation_test.txt\r\n"
     ]
    }
   ],
   "source": [
    "! ls"
   ]
  },
  {
   "cell_type": "code",
   "execution_count": 46,
   "metadata": {},
   "outputs": [
    {
     "data": {
      "text/plain": [
       "74"
      ]
     },
     "execution_count": 46,
     "metadata": {},
     "output_type": "execute_result"
    }
   ],
   "source": [
    "len(training_set)"
   ]
  },
  {
   "cell_type": "code",
   "execution_count": 47,
   "metadata": {},
   "outputs": [
    {
     "data": {
      "text/plain": [
       "26"
      ]
     },
     "execution_count": 47,
     "metadata": {},
     "output_type": "execute_result"
    }
   ],
   "source": [
    "len(validation_set)"
   ]
  },
  {
   "cell_type": "code",
   "execution_count": 58,
   "metadata": {},
   "outputs": [],
   "source": [
    "import time"
   ]
  },
  {
   "cell_type": "code",
   "execution_count": 74,
   "metadata": {},
   "outputs": [
    {
     "name": "stdout",
     "output_type": "stream",
     "text": [
      "time = 0.0001621246 sec\n"
     ]
    }
   ],
   "source": [
    "t0=time.time()\n",
    "for i in range(int(1e3)):\n",
    "    x=0\n",
    "print('time = {:.10f} sec'.format(time.time()-t0))"
   ]
  },
  {
   "cell_type": "code",
   "execution_count": 55,
   "metadata": {},
   "outputs": [
    {
     "data": {
      "text/plain": [
       "datetime.time(0, 0)"
      ]
     },
     "execution_count": 55,
     "metadata": {},
     "output_type": "execute_result"
    }
   ],
   "source": [
    "datetime.time()"
   ]
  }
 ],
 "metadata": {
  "kernelspec": {
   "display_name": "Python 3",
   "language": "python",
   "name": "python3"
  },
  "language_info": {
   "codemirror_mode": {
    "name": "ipython",
    "version": 3
   },
   "file_extension": ".py",
   "mimetype": "text/x-python",
   "name": "python",
   "nbconvert_exporter": "python",
   "pygments_lexer": "ipython3",
   "version": "3.6.4"
  }
 },
 "nbformat": 4,
 "nbformat_minor": 2
}
