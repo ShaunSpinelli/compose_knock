{
 "cells": [
  {
   "cell_type": "code",
<<<<<<< HEAD
   "execution_count": 8,
=======
   "execution_count": 2,
>>>>>>> 76398ba7d02d7bf7d87eb98b2d3b413e07c64fd4
   "metadata": {},
   "outputs": [],
   "source": [
    "import random\n",
    "from IPython.display import FileLink\n",
<<<<<<< HEAD
    "import os\n",
    "import shutil"
=======
    "import os"
>>>>>>> 76398ba7d02d7bf7d87eb98b2d3b413e07c64fd4
   ]
  },
  {
   "cell_type": "code",
<<<<<<< HEAD
   "execution_count": 24,
   "metadata": {},
   "outputs": [
    {
     "name": "stdout",
     "output_type": "stream",
     "text": [
      "val_1104810.txt  val_1778230.txt  val_2170386.txt  val_801645.txt\r\n",
      "val_1272501.txt  val_1826739.txt  val_353489.txt   val_845414.txt\r\n",
      "val_1278709.txt  val_1845766.txt  val_674653.txt   val_863875.txt\r\n",
      "val_1448474.txt  val_1907681.txt  val_691107.txt   val_948248.txt\r\n",
      "val_1701473.txt  val_1956420.txt  val_723886.txt   {val_files[i]}\r\n"
     ]
    }
   ],
   "source": [
    "! ls data/valid_sample/"
   ]
  },
  {
   "cell_type": "code",
   "execution_count": null,
   "metadata": {},
   "outputs": [],
   "source": [
    "for i in range(20):\n",
    "    shutil.copy(f'data/wiki_valid/wiki_valid/validation_files/{val_files[i]}', 'data/valid_sample/')\n",
    "    shutil.copy(f'data/wiki_valid/wiki_trian/train_files/{trn_files[i]}', 'data/train_sample/')\n",
    "    "
   ]
  },
  {
   "cell_type": "code",
   "execution_count": 7,
=======
   "execution_count": 40,
>>>>>>> 76398ba7d02d7bf7d87eb98b2d3b413e07c64fd4
   "metadata": {},
   "outputs": [],
   "source": [
    "val_files = os.listdir('data/wiki_valid/validation_files')\n",
    "trn_files = os.listdir('data/wiki_train/train_files')"
   ]
  },
  {
   "cell_type": "code",
<<<<<<< HEAD
   "execution_count": 13,
   "metadata": {},
   "outputs": [
    {
     "data": {
      "text/plain": [
       "'train_128374.txt'"
      ]
     },
     "execution_count": 13,
     "metadata": {},
     "output_type": "execute_result"
    }
   ],
   "source": [
    "trn_files[0]"
   ]
  },
  {
   "cell_type": "code",
=======
>>>>>>> 76398ba7d02d7bf7d87eb98b2d3b413e07c64fd4
   "execution_count": 54,
   "metadata": {},
   "outputs": [
    {
     "name": "stdout",
     "output_type": "stream",
     "text": [
      "one of the large detailed illustrations in andreas vesalius de humani corporis fabrica th century marking the rebirth of anatomy dissected body lying prone on table from series of anatomical drawings made by the th century english artist charles landseer anatomy greek anatomē dissection is the branch of biology concerned with the study of the structure of organisms and their parts anatomy is branch of natural science dealing with the structural organization of living things it is an old science having its beginnings in prehistoric times anatomy is inherently tied to embryology comparative anatomy evolutionary biology and phylogeny as these are the processes by which anatomy is generated over immediate embryology and long evolution timescales human anatomy is one of the basic essential sciences of medicine anatomy and physiology which study respectively the structure and function of organisms and their parts make natural pair of related disciplines and they are often studied together the discipline of anatomy is divided into macroscopic and microscopic anatomy macroscopic anatomy or gross anatomy is the examination of an animal body parts using unaided eyesight gross anatomy also includes the branch of superficial anatomy microscopic anatomy involves the use of optical instruments in the study of the tissues of various structures known as histology and also in the study of cells the history of anatomy is characterized by progressive understanding of the functions of the organs and structures of the human body methods have also improved dramatically advancing from the examination of animals by dissection of carcasses and cadavers corpses to th century medical imaging techniques including ray ultrasound and magnetic resonance imaging definition human compared to elephant frame benjamin waterhouse hawkins derived from the greek anatomē dissection from anatémnō cut up cut open from ἀνά aná up and τέμνω témnō cut anatomy is the scientific study of the structure of organisms including their systems organs and tissues it includes the appearance and position of the various parts the materials from which they are composed their locations and their relationships with other parts anatomy is quite distinct from physiology and biochemistry which deal respectively with the functions of those parts and the chemical processes involved for example an anatomist is concerned with the shape size position structure blood supply and innervation of an organ such as the liver while physiologist is interested in the production of bile the role of the liver in nutrition and the regulation of bodily functions the discipline of anatomy can be subdivided into number of branches including gross or macroscopic anatomy and microscopic anatomy gross anatomy is the study of structures large enough to be seen with the naked eye and also includes superficial anatomy or surface anatomy the study by sight of the external body features microscopic anatomy is the study of structures on microscopic scale including histology the study of tissues and embryology the study of an organism in its immature condition anatomy can be studied using both invasive and non invasive methods with the goal of obtaining information about the structure and organization of organs and systems methods used include dissection in which body is opened and its organs studied and endoscopy in which video camera equipped instrument is inserted through small incision in the body wall and used to explore the internal organs and other structures angiography using rays or magnetic resonance angiography are methods to visualize blood vessels the term anatomy is commonly taken to refer to human anatomy however substantially the same structures and tissues are found throughout the rest of the animal kingdom and the term also includes the anatomy of other animals the term zootomy is also sometimes used to specifically refer to animals the structure and tissues of plants are of dissimilar nature and they are studied in plant anatomy animal tissues stylized cutaway diagram of an animal cell with flagella the kingdom animalia contains multicellular organisms that are heterotrophic and motile although some have secondarily adopted sessile lifestyle most animals have bodies differentiated into separate tissues and these animals are also known as eumetazoans they have an internal digestive chamber with one or two openings the gametes are produced in multicellular sex organs and the zygotes include blastula stage in their embryonic development metazoans do not include the sponges which have cells unlike plant cells animal cells have neither cell wall nor chloroplasts vacuoles when present are more in number and much smaller than those in the plant cell the body tissues are composed of numerous types of cell including those found in muscles nerves and skin each typically has cell membrane formed of phospholipids cytoplasm and nucleus all of the different cells of an animal are derived from the embryonic germ layers those simpler invertebrates which are formed from two germ layers of ectoderm and endoderm are called diploblastic and the more developed animals whose structures and organs are formed from three germ layers are called triploblastic all of triploblastic animal tissues and organs are derived from the three germ layers of the embryo the ectoderm mesoderm and endoderm animal tissues can be grouped into four basic types connective epithelial muscle and nervous tissue hyaline cartilage at high magnification stain connective tissue connective tissues are fibrous and made up of cells scattered among inorganic material called the extracellular matrix connective tissue gives shape to organs and holds them in place the main types are loose connective tissue adipose tissue fibrous connective tissue cartilage and bone the extracellular matrix contains proteins the chief and most abundant of which is collagen collagen plays major part in organizing and maintaining tissues the matrix can be modified to form skeleton to support or protect the body an exoskeleton is thickened rigid cuticle which is stiffened by mineralization as in crustaceans or by the cross linking of its proteins as in insects an endoskeleton is internal and present in all developed animals as well as in many of those less developed epithelium gastric mucosa at low magnification stain epithelial tissue is composed of closely packed cells bound to each other by cell adhesion molecules with little intercellular space epithelial cells can be squamous flat cuboidal or columnar and rest on basal lamina the upper layer of the basement membrane the lower layer is the reticular lamina lying next to the connective tissue in the extracellular matrix secreted by the epithelial cells there are many different types of epithelium modified to suit particular function in the respiratory tract there is type of ciliated epithelial lining in the small intestine there are microvilli on the epithelial lining and in the large intestine there are intestinal villi skin consists of an outer layer of keratinized stratified squamous epithelium that covers the exterior of the vertebrate body keratinocytes make up to of the cells in the skin the epithelial cells on the external surface of the body typically secrete an extracellular matrix in the form of cuticle in simple animals this may just be coat of glycoproteins in more advanced animals many glands are formed of epithelial cells muscle tissue cross section through skeletal muscle and small nerve at high magnification stain muscle cells myocytes form the active contractile tissue of the body muscle tissue functions to produce force and cause motion either locomotion or movement within internal organs muscle is formed of contractile filaments and is separated into three main types smooth muscle skeletal muscle and cardiac muscle smooth muscle has no striations when examined microscopically it contracts slowly but maintains contractibility over wide range of stretch lengths it is found in such organs as sea anemone tentacles and the body wall of sea cucumbers skeletal muscle contracts rapidly but has limited range of extension it is found in the movement of appendages and jaws obliquely striated muscle is intermediate between the other two the filaments are staggered and this is the type of muscle found in earthworms that can extend slowly or make rapid contractions in higher animals striated muscles occur in bundles attached to bone to provide movement and are often arranged in antagonistic sets smooth muscle is found in the walls of the uterus bladder intestines stomach oesophagus respiratory airways and blood vessels cardiac muscle is found only in the heart allowing it to contract and pump blood round the body nervous tissue nervous tissue is composed of many nerve cells known as neurons which transmit information in some slow moving radially symmetrical marine animals such as ctenophores and cnidarians including sea anemones and jellyfish the nerves form nerve net but in most animals they are organized longitudinally into bundles in simple animals receptor neurons in the body wall cause local reaction to stimulus in more complex animals specialized receptor cells such as chemoreceptors and photoreceptors are found in groups and send messages along neural networks to other parts of the organism neurons can be connected together in ganglia in higher animals specialized receptors are the basis of sense organs and there is central nervous system brain and spinal cord and peripheral nervous system the latter consists of sensory nerves that transmit information from sense organs and motor nerves that influence target organs the peripheral nervous system is divided into the somatic nervous system which conveys sensation and controls voluntary muscle and the autonomic nervous system which involuntarily controls smooth muscle certain glands and internal organs including the stomach vertebrate anatomy mouse skull all vertebrates have similar basic body plan and at some point in their lives mostly in the embryonic stage share the major chordate characteristics stiffening rod the notochord dorsal hollow tube of nervous material the neural tube pharyngeal arches and tail posterior to the anus the spinal cord is protected by the vertebral column and is above the notochord and the tract is below it nervous tissue is derived from the ectoderm connective tissues are derived from mesoderm and gut is derived from the endoderm at the posterior end is tail which continues the spinal cord and vertebrae but not the gut the mouth is found at the anterior end of the animal and the anus at the base of the tail the defining characteristic of vertebrate is the vertebral column formed in the development of the segmented series of vertebrae in most vertebrates the notochord becomes the nucleus pulposus of the intervertebral discs however few vertebrates such as the sturgeon and the coelacanth retain the notochord into adulthood jawed vertebrates are typified by paired appendages fins or legs which may be secondarily lost the limbs of vertebrates are considered to be homologous because the same underlying skeletal structure was inherited from their last common ancestor this is one of the arguments put forward by charles darwin to support his theory of evolution fish anatomy cutaway diagram showing various organs of fish the body of fish is divided into head trunk and tail although the divisions between the three are not always externally visible the skeleton which forms the support structure inside the fish is either made of cartilage in cartilaginous fish or bone in bony fish the main skeletal element is the vertebral column composed of articulating vertebrae which are lightweight yet strong the ribs attach to the spine and there are no limbs or limb girdles the main external features of the fish the fins are composed of either bony or soft spines called rays which with the exception of the caudal fins have no direct connection with the spine they are supported by the muscles which compose the main part of the trunk the heart has two chambers and pumps the blood through the respiratory surfaces of the gills and on round the body in single circulatory loop the eyes are adapted for seeing underwater and have only local vision there is an inner ear but no external or middle ear low frequency vibrations are detected by the lateral line system of sense organs that run along the length of the sides of fish and these respond to nearby movements and to changes in water pressure sharks and rays are basal fish with numerous primitive anatomical features similar to those of ancient fish including skeletons composed of cartilage their bodies tend to be dorso ventrally flattened they usually have five pairs of gill slits and large mouth set on the underside of the head the dermis is covered with separate dermal placoid scales they have cloaca into which the urinary and genital passages open but not swim bladder cartilaginous fish produce small number of large yolky eggs some species are ovoviviparous and the young develop internally but others are oviparous and the larvae develop externally in egg cases the bony fish lineage shows more derived anatomical traits often with major evolutionary changes from the features of ancient fish they have bony skeleton are generally laterally flattened have five pairs of gills protected by an operculum and mouth at or near the tip of the snout the dermis is covered with overlapping scales bony fish have swim bladder which helps them maintain constant depth in the water column but not cloaca they mostly spawn large number of small eggs with little yolk which they broadcast into the water column amphibian anatomy skeleton of surinam horned frog ceratophrys cornuta plastic model of frog amphibians are class of animals comprising frogs salamanders and caecilians they are tetrapods but the caecilians and few species of salamander have either no limbs or their limbs are much reduced in size their main bones are hollow and lightweight and are fully ossified and the vertebrae interlock with each other and have articular processes their ribs are usually short and may be fused to the vertebrae their skulls are mostly broad and short and are often incompletely ossified their skin contains little keratin and lacks scales but contains many mucous glands and in some species poison glands the hearts of amphibians have three chambers two atria and one ventricle they have urinary bladder and nitrogenous waste products are excreted primarily as urea amphibians breathe by means of buccal pumping pump action in which air is first drawn into the buccopharyngeal region through the nostrils these are then closed and the air is forced into the lungs by contraction of the throat they supplement this with gas exchange through the skin which needs to be kept moist in frogs the pelvic girdle is robust and the hind legs are much longer and stronger than the forelimbs the feet have four or five digits and the toes are often webbed for swimming or have suction pads for climbing frogs have large eyes and no tail salamanders resemble lizards in appearance their short legs project sideways the belly is close to or in contact with the ground and they have long tail caecilians superficially resemble earthworms and are limbless they burrow by means of zones of muscle contractions which move along the body and they swim by undulating their body from side to side reptile anatomy skeleton of diamondback rattlesnake reptiles are class of animals comprising turtles tuataras lizards snakes and crocodiles they are tetrapods but the snakes and few species of lizard either have no limbs or their limbs are much reduced in size their bones are better ossified and their skeletons stronger than those of amphibians the teeth are conical and mostly uniform in size the surface cells of the epidermis are modified into horny scales which create waterproof layer reptiles are unable to use their skin for respiration as do amphibians and have more efficient respiratory system drawing air into their lungs by expanding their chest walls the heart resembles that of the amphibian but there is septum which more completely separates the oxygenated and deoxygenated bloodstreams the reproductive system has evolved for internal fertilization with copulatory organ present in most species the eggs are surrounded by amniotic membranes which prevents them from drying out and are laid on land or develop internally in some species the bladder is small as nitrogenous waste is excreted as uric acid turtles are notable for their protective shells they have an inflexible trunk encased in horny carapace above and plastron below these are formed from bony plates embedded in the dermis which are overlain by horny ones and are partially fused with the ribs and spine the neck is long and flexible and the head and the legs can be drawn back inside the shell turtles are vegetarians and the typical reptile teeth have been replaced by sharp horny plates in aquatic species the front legs are modified into flippers tuataras superficially resemble lizards but the lineages diverged in the triassic period there is one living species sphenodon punctatus the skull has two openings fenestrae on either side and the jaw is rigidly attached to the skull there is one row of teeth in the lower jaw and this fits between the two rows in the upper jaw when the animal chews the teeth are merely projections of bony material from the jaw and eventually wear down the brain and heart are more primitive than those of other reptiles and the lungs have single chamber and lack bronchi the tuatara has well developed parietal eye on its forehead lizards have skulls with only one fenestra on each side the lower bar of bone below the second fenestra having been lost this results in the jaws being less rigidly attached which allows the mouth to open wider lizards are mostly quadrupeds with the trunk held off the ground by short sideways facing legs but few species have no limbs and resemble snakes lizards have moveable eyelids eardrums are present and some species have central parietal eye snakes are closely related to lizards having branched off from common ancestral lineage during the cretaceous period and they share many of the same features the skeleton consists of skull hyoid bone spine and ribs though few species retain vestige of the pelvis and rear limbs in the form of pelvic spurs the bar under the second fenestra has also been lost and the jaws have extreme flexibility allowing the snake to swallow its prey whole snakes lack moveable eyelids the eyes being covered by transparent spectacle scales they do not have eardrums but can detect ground vibrations through the bones of their skull their forked tongues are used as organs of taste and smell and some species have sensory pits on their heads enabling them to locate warm blooded prey crocodilians are large low slung aquatic reptiles with long snouts and large numbers of teeth the head and trunk are dorso ventrally flattened and the tail is laterally compressed it undulates from side to side to force the animal through the water when swimming the tough keratinized scales provide body armour and some are fused to the skull the nostrils eyes and ears are elevated above the top of the flat head enabling them to remain above the surface of the water when the animal is floating valves seal the nostrils and ears when it is submerged unlike other reptiles crocodilians have hearts with four chambers allowing complete separation of oxygenated and deoxygenated blood bird anatomy part of wing albrecht dürer birds are tetrapods but though their hind limbs are used for walking or hopping their front limbs are wings covered with feathers and adapted for flight birds are endothermic have high metabolic rate light skeletal system and powerful muscles the long bones are thin hollow and very light air sac extensions from the lungs occupy the centre of some bones the sternum is wide and usually has keel and the caudal vertebrae are fused there are no teeth and the narrow jaws are adapted into horn covered beak the eyes are relatively large particularly in nocturnal species such as owls they face forwards in predators and sideways in ducks the feathers are outgrowths of the epidermis and are found in localized bands from where they fan out over the skin large flight feathers are found on the wings and tail contour feathers cover the bird surface and fine down occurs on young birds and under the contour feathers of water birds the only cutaneous gland is the single uropygial gland near the base of the tail this produces an oily secretion that waterproofs the feathers when the bird preens there are scales on the legs feet and claws on the tips of the toes mammal anatomy mammals are diverse class of animals mostly terrestrial but some are aquatic and others have evolved flapping or gliding flight they mostly have four limbs but some aquatic mammals have no limbs or limbs modified into fins and the forelimbs of bats are modified into wings the legs of most mammals are situated below the trunk which is held well clear of the ground the bones of mammals are well ossified and their teeth which are usually differentiated are coated in layer of prismatic enamel the teeth are shed once milk teeth during the animal lifetime or not at all as is the case in cetaceans mammals have three bones in the middle ear and cochlea in the inner ear they are clothed in hair and their skin contains glands which secrete sweat some of these glands are specialized as mammary glands producing milk to feed the young mammals breathe with lungs and have muscular diaphragm separating the thorax from the abdomen which helps them draw air into the lungs the mammalian heart has four chambers and oxygenated and deoxygenated blood are kept entirely separate nitrogenous waste is excreted primarily as urea mammals are amniotes and most are viviparous giving birth to live young the exception to this are the egg laying monotremes the platypus and the echidnas of australia most other mammals have placenta through which the developing foetus obtains nourishment but in marsupials the foetal stage is very short and the immature young is born and finds its way to its mother pouch where it latches on to nipple and completes its development human anatomy mri scan in the human the development of skilled hand movements and increased brain size is likely to have evolved simultaneously humans have the overall body plan of mammal humans have head neck trunk which includes the thorax and abdomen two arms and hands and two legs and feet generally students of certain biological sciences paramedics prosthetists and orthotists occupational therapists nurses podiatrists and medical students learn gross anatomy and microscopic anatomy from anatomical models skeletons textbooks diagrams photographs lectures and tutorials and in addition medical students generally also learn gross anatomy through practical experience of dissection and inspection of cadavers the study of microscopic anatomy or histology can be aided by practical experience examining histological preparations or slides under microscope human anatomy physiology and biochemistry are complementary basic medical sciences which are generally taught to medical students in their first year at medical school human anatomy can be taught regionally or systemically that is respectively studying anatomy by bodily regions such as the head and chest or studying by specific systems such as the nervous or respiratory systems the major anatomy textbook gray anatomy has been reorganized from systems format to regional format in line with modern teaching methods thorough working knowledge of anatomy is required by physicians especially surgeons and doctors working in some diagnostic specialties such as histopathology and radiology academic anatomists are usually employed by universities medical schools or teaching hospitals they are often involved in teaching anatomy and research into certain systems organs tissues or cells invertebrate anatomy head of male daphnia planktonic crustacean invertebrates constitute vast array of living organisms ranging from the simplest unicellular eukaryotes such as paramecium to such complex multicellular animals as the octopus lobster and dragonfly they constitute about of the animal species by definition none of these creatures has backbone the cells of single cell protozoans have the same basic structure as those of multicellular animals but some parts are specialized into the equivalent of tissues and organs locomotion is often provided by cilia or flagella or may proceed via the advance of pseudopodia food may be gathered by phagocytosis energy needs may be supplied by photosynthesis and the cell may be supported by an endoskeleton or an exoskeleton some protozoans can form multicellular colonies metazoans are multicellular organism different groups of cells of which have separate functions the most basic types of metazoan tissues are epithelium and connective tissue both of which are present in nearly all invertebrates the outer surface of the epidermis is normally formed of epithelial cells and secretes an extracellular matrix which provides support to the organism an endoskeleton derived from the mesoderm is present in echinoderms sponges and some cephalopods exoskeletons are derived from the epidermis and is composed of chitin in arthropods insects spiders ticks shrimps crabs lobsters calcium carbonate constitutes the shells of molluscs brachiopods and some tube building polychaete worms and silica forms the exoskeleton of the microscopic diatoms and radiolaria other invertebrates may have no rigid structures but the epidermis may secrete variety of surface coatings such as the pinacoderm of sponges the gelatinous cuticle of cnidarians polyps sea anemones jellyfish and the collagenous cuticle of annelids the outer epithelial layer may include cells of several types including sensory cells gland cells and stinging cells there may also be protrusions such as microvilli cilia bristles spines and tubercles marcello malpighi the father of microscopical anatomy discovered that plants had tubules similar to those he saw in insects like the silk worm he observed that when ring like portion of bark was removed on trunk swelling occurred in the tissues above the ring and he unmistakably interpreted this as growth stimulated by food coming down from the leaves and being captured above the ring arthropod anatomy arthropods comprise the largest phylum in the animal kingdom with over million known invertebrate species insects possess segmented bodies supported by hard jointed outer covering the exoskeleton made mostly of chitin the segments of the body are organized into three distinct parts head thorax and an abdomen the head typically bears pair of sensory antennae pair of compound eyes one to three simple eyes ocelli and three sets of modified appendages that form the mouthparts the thorax has three pairs of segmented legs one pair each for the three segments that compose the thorax and one or two pairs of wings the abdomen is composed of eleven segments some of which may be fused and houses the digestive respiratory excretory and reproductive systems there is considerable variation between species and many adaptations to the body parts especially wings legs antennae and mouthparts spiders class of arachnids have four pairs of legs body of two segments cephalothorax and an abdomen spiders have no wings and no antennae they have mouthparts called chelicerae which are often connected to venom glands as most spiders are venomous they have second pair of appendages called pedipalps attached to the cephalothorax these have similar segmentation to the legs and function as taste and smell organs at the end of each male pedipalp is spoon shaped cymbium that acts to support the copulatory organ other branches of anatomy superficial or surface anatomy is important as the study of anatomical landmarks that can be readily seen from the exterior contours of the body it enables physicians or veterinary surgeons to gauge the position and anatomy of the associated deeper structures superficial is directional term that indicates that structures are located relatively close to the surface of the body comparative anatomy relates to the comparison of anatomical structures both gross and microscopic in different animals artistic anatomy relates to anatomic studies for artistic reasons history ancient image of early rendition of anatomy findings in bce the edwin smith papyrus an ancient egyptian medical text described the heart its vessels liver spleen kidneys hypothalamus uterus and bladder and showed the blood vessels diverging from the heart the ebers papyrus bce features treatise on the heart with vessels carrying all the body fluids to or from every member of the body ancient greek anatomy and physiology underwent great changes and advances throughout the early medieval world over time this medical practice expanded by continually developing understanding of the functions of organs and structures in the body phenomenal anatomical observations of the human body were made which have contributed towards the understanding of the brain eye liver reproductive organs and the nervous system the hellenistic egyptian city of alexandria was the stepping stone for greek anatomy and physiology alexandria not only housed the biggest library for medical records and books of the liberal arts in the world during the time of the greeks but was also home to many medical practitioners and philosophers great patronage of the arts and sciences from the ptolemy rulers helped raise alexandria up further rivalling the cultural and scientific achievements of other greek states some of the most striking advances in early anatomy and physiology took place in hellenistic alexandria two of the most famous anatomists and physiologists of the third century were herophilus and erasistratus these two physicians helped pioneer human dissection for medical research they also conducted vivisections on the cadavers of condemned criminals which was considered taboo until the renaissance herophilus was recognized as the first person to perform systematic dissections herophilus became known for his anatomical works making impressing contributions to many branches of anatomy and many other aspects of medicine some of the works included classifying the system of the pulse the discovery that human arteries had thicker walls then veins and that the atria were parts of the heart herophilus knowledge of the human body has provided vital input towards understanding the brain eye liver reproductive organs and nervous system and characterizing the course of disease erasistratus accurately described the structure of the brain including the cavities and membranes and made distinction between its cerebrum and cerebellum during his study in alexandria erasistratus was particularly concerned with studies of the circulatory and nervous systems he was able to distinguish the sensory and the motor nerves in the human body and believed that air entered the lungs and heart which was then carried throughout the body his distinction between the arteries and veins the arteries carrying the air through the body while the veins carried the blood from the heart was great anatomical discovery erasistratus was also responsible for naming and describing the function of the epiglottis and the valves of the heart including the tricuspid during the third century greek physicians were able to differentiate nerves from blood vessels and tendons and to realize that the nerves convey neural impulses it was herophilus who made the point that damage to motor nerves induced paralysis herophilus named the meninges and ventricles in the brain appreciated the division between cerebellum and cerebrum and recognized that the brain was the seat of intellect and not cooling chamber as propounded by aristotle herophilus is also credited with describing the optic oculomotor motor division of the trigeminal facial and hypoglossal nerves th century anatomical illustration great feats were made during the third century in both the digestive and reproductive systems herophilus was able to discover and describe not only the salivary glands but the small intestine and liver he showed that the uterus is hollow organ and described the ovaries and uterine tubes he recognized that spermatozoa were produced by the testes and was the first to identify the prostate gland the anatomy of the muscles and skeleton is described in the hippocratic corpus an ancient greek medical work written by unknown authors aristotle described vertebrate anatomy based on animal dissection praxagoras identified the difference between arteries and veins also in the th century bce herophilos and erasistratus produced more accurate anatomical descriptions based on vivisection of criminals in alexandria during the ptolemaic dynasty in the nd century galen of pergamum an anatomist clinician writer and philosopher wrote the final and highly influential anatomy treatise of ancient times he compiled existing knowledge and studied anatomy through dissection of animals he was one of the first experimental physiologists through his vivisection experiments on animals galen drawings based mostly on dog anatomy became effectively the only anatomical textbook for the next thousand years his work was known to renaissance doctors only through islamic golden age medicine until it was translated from the greek some time in the th century medieval to early modern mondino de luzzi anathomia anatomical study of the arm by leonardo da vinci about anatomical chart in vesalius epitome michiel jansz van mierevelt anatomy lesson of dr willem van der meer anatomy developed little from classical times until the sixteenth century as the historian marie boas writes progress in anatomy before the sixteenth century is as mysteriously slow as its development after is startlingly rapid between and the anatomists mondino de luzzi alessandro achillini and antonio benivieni at bologna carried out the first systematic human dissections since ancient times mondino anatomy of was the first textbook in the medieval rediscovery of human anatomy it describes the body in the order followed in mondino dissections starting with the abdomen then the thorax then the head and limbs it was the standard anatomy textbook for the next century leonardo da vinci was trained in anatomy by andrea del verrocchio he made use of his anatomical knowledge in his artwork making many sketches of skeletal structures muscles and organs of humans and other vertebrates that he dissected andreas vesalius latinized from andries van wezel professor of anatomy at the university of padua is considered the founder of modern human anatomy originally from brabant vesalius published the influential book de humani corporis fabrica the structure of the human body large format book in seven volumes in the accurate and intricately detailed illustrations often in allegorical poses against italianate landscapes are thought to have been made by the artist jan van calcar pupil of titian in england anatomy was the subject of the first public lectures given in any science these were given by the company of barbers and surgeons in the th century joined in by the lumleian lectures in surgery at the royal college of physicians late modern in the united states medical schools began to be set up towards the end of the th century classes in anatomy needed continual stream of cadavers for dissection and these were difficult to obtain philadelphia baltimore and new york were all renowned for body snatching activity as criminals raided graveyards at night removing newly buried corpses from their coffins similar problem existed in britain where demand for bodies became so great that grave raiding and even anatomy murder were practised to obtain cadavers some graveyards were in consequence protected with watchtowers the practice was halted in britain by the anatomy act of while in the united states similar legislation was enacted after the physician william forbes of jefferson medical college was found guilty in of complicity with in the despoliation of graves in lebanon cemetery the teaching of anatomy in britain was transformed by sir john struthers regius professor of anatomy at the university of aberdeen from to he was responsible for setting up the system of three years of pre clinical academic teaching in the sciences underlying medicine including especially anatomy this system lasted until the reform of medical training in and as well as teaching he collected many vertebrate skeletons for his museum of comparative anatomy published over research papers and became famous for his public dissection of the tay whale from the royal college of surgeons regulated the teaching of anatomy in medical schools medical museums provided examples in comparative anatomy and were often used in teaching ignaz semmelweis investigated puerperal fever and he discovered how it was caused he noticed that the frequently fatal fever occurred more often in mothers examined by medical students than by midwives the students went from the dissecting room to the hospital ward and examined women in childbirth semmelweis showed that when the trainees washed their hands in chlorinated lime before each clinical examination the incidence of puerperal fever among the mothers could be reduced dramatically an electron microscope from before the modern medical era the main means for studying the internal structures of the body were dissection of the dead and inspection palpation and auscultation of the living it was the advent of microscopy that opened up an understanding of the building blocks that constituted living tissues technical advances in the development of achromatic lenses increased the resolving power of the microscope and around matthias jakob schleiden and theodor schwann identified that cells were the fundamental unit of organization of all living things study of small structures involved passing light through them and the microtome was invented to provide sufficiently thin slices of tissue to examine staining techniques using artificial dyes were established to help distinguish between different types of tissue advances in the fields of histology and cytology began in the late th century along with advances in surgical techniques allowing for the painless and safe removal of biopsy specimens the invention of the electron microscope brought great advance in resolution power and allowed research into the ultrastructure of cells and the organelles and other structures within them about the same time in the the use of ray diffraction for studying the crystal structures of proteins nucleic acids and other biological molecules gave rise to new field of molecular anatomy illustration from acta eruditorum equally important advances have occurred in non invasive techniques for examining the interior structures of the body rays can be passed through the body and used in medical radiography and fluoroscopy to differentiate interior structures that have varying degrees of opaqueness magnetic resonance imaging computed tomography and ultrasound imaging have all enabled examination of internal structures in unprecedented detail to degree far beyond the imagination of earlier generations see also outline of human anatomy notes bibliography anatomy of the human body th edition henry gray external links anatomy in our time bbc radio melvyn bragg with guests ruth richardson andrew cunningham and harold ellis\r\n"
     ]
    }
   ],
   "source": [
    "x=f'data/wiki_train/train_files/{trn_files[random.randint(0,len(trn_files))]}'\n",
    "! cat $x"
   ]
  },
  {
   "cell_type": "code",
   "execution_count": 55,
   "metadata": {},
   "outputs": [
    {
     "name": "stdout",
     "output_type": "stream",
     "text": [
      "one inc olesen is landmark united states supreme court decision for lgbt rights in the united states it was the first supreme court ruling to deal with homosexuality and the first to address free speech rights with respect to homosexuality one inc spinoff of the mattachine society published the early pro gay one the homosexual magazine beginning in after campaign of harassment from the post office department and the federal bureau of investigation los angeles postmaster otto olesen declared the october issue obscene lewd lascivious and filthy and therefore unmailable under the comstock laws in that issue the post office objected to sappho remembered story of lesbian affection for twenty year old girl who gives up her boyfriend to live with the lesbian because it was lustfully stimulating to the average homosexual reader lord samuel and lord montagu poem about homosexual cruising that it said contained filthy words and an advertisement for the circle magazine containing homosexual pulp romance stories that would direct the reader to other obscene material the magazine represented by young attorney who had authored the cover story in the october issue eric julber brought suit in district court seeking an injunction against the postmaster in march district judge thurmond clarke ruled for the defendant he wrote the suggestion advanced that homosexuals should be recognized as segment of our people and be accorded special privilege as class is rejected three judge panel of the ninth circuit court of appeals upheld that decision unanimously in february julber filed petition with the supreme court on june on january that court both accepted the case and without hearing oral argument issued terse per curiam decision reversing the ninth circuit the decision citing its june landmark decision in roth united states read in its entirety one inc olesen was the first supreme court ruling to deal with homosexuality and the first to address free speech rights with respect to homosexuality the justices supporting the reversal were frankfurter douglas clark harlan and whittaker as an affirmation of roth the case itself has proved most important for in the words of one scholar its on the ground effects by protecting one the supreme court facilitated the flourishing of gay and lesbian culture and sense of community at the same time as the federal government was purging homosexuals from its ranks in its next issue one told its readers for the first time in american publishing history decision binding on every court now stands affirming in effect that it is in no way proper to describe love affair between two homosexuals as constitut ing obscenity references further reading describing index of one magazine issues homosexuality and free speech the one case external links one inc olesen ninth circuit court of appeals february\r\n"
     ]
    }
   ],
   "source": [
    "x=f'data/wiki_valid/validation_files/{val_files[random.randint(0,len(val_files))]}'\n",
    "! cat $x"
   ]
  },
  {
   "cell_type": "code",
   "execution_count": 22,
   "metadata": {},
   "outputs": [
    {
     "name": "stdout",
     "output_type": "stream",
     "text": [
      "rm: cannot remove 'data/wiki_train/train_files/train_2.txt': No such file or directory\r\n"
     ]
    }
   ],
   "source": [
    "! rm data/wiki_train/train_files/train_2.txt\n",
    "! rm data/wiki_valid/validation_files/val_0.txt"
   ]
  },
  {
   "cell_type": "code",
   "execution_count": 15,
   "metadata": {},
   "outputs": [
    {
     "data": {
      "text/html": [
       "<a href='data/wiki_train/train_files/train_2.txt' target='_blank'>data/wiki_train/train_files/train_2.txt</a><br>"
      ],
      "text/plain": [
       "/home/ubuntu/compose_knock/data/wiki_train/train_files/train_2.txt"
      ]
     },
     "execution_count": 15,
     "metadata": {},
     "output_type": "execute_result"
    }
   ],
   "source": [
    "FileLink('data/wiki_train/train_files/train_2.txt')"
   ]
  },
  {
   "cell_type": "code",
   "execution_count": 16,
   "metadata": {},
   "outputs": [
    {
     "data": {
      "text/html": [
       "<a href='data/wiki_valid/validation_files/val_0.txt' target='_blank'>data/wiki_valid/validation_files/val_0.txt</a><br>"
      ],
      "text/plain": [
       "/home/ubuntu/compose_knock/data/wiki_valid/validation_files/val_0.txt"
      ]
     },
     "execution_count": 16,
     "metadata": {},
     "output_type": "execute_result"
    }
   ],
   "source": [
    "FileLink('data/wiki_valid/validation_files/val_0.txt')"
   ]
  },
  {
   "cell_type": "code",
   "execution_count": 4,
   "metadata": {},
   "outputs": [],
   "source": [
    "wiki = 'wiki_en.txt'\n",
    "wiki_bz2='enwiki-latest-pages-articles.xml.bz2'"
   ]
  },
  {
   "cell_type": "code",
   "execution_count": 45,
   "metadata": {},
   "outputs": [],
   "source": [
    "train_file = open('training_test.txt', 'wb')\n",
    "valid_file = open('validation_test.txt', 'wb')\n",
    "training_set =[]\n",
    "validation_set=[]\n",
    "\n",
    "\n",
    "with open(wiki, 'rb') as f:\n",
    "    for i in range(100):\n",
    "        if random.random()>.2: #training set\n",
    "            train_file.write(f.readline())\n",
    "            training_set.append(f.readline())\n",
    "        else: #validation set\n",
    "            valid_file.write(f.readline())\n",
    "            validation_set.append(f.readline())\n",
    "    train_file.close()\n",
    "    valid_file.close()"
   ]
  },
  {
   "cell_type": "code",
   "execution_count": 40,
   "metadata": {},
   "outputs": [
    {
     "name": "stdout",
     "output_type": "stream",
     "text": [
      "archive\t\t\t\t tmp\t\t      wiki_en.txt\r\n",
      "fastai\t\t\t\t training_test.txt    wiki_processing\r\n",
      "jokes_ds.p\t\t\t train_test.py\t      WIP.ipynb\r\n",
      "knock_language_model_wiki.ipynb  Untitled.ipynb\r\n",
      "models\t\t\t\t validation_test.txt\r\n"
     ]
    }
   ],
   "source": [
    "! ls"
   ]
  },
  {
   "cell_type": "code",
   "execution_count": 46,
   "metadata": {},
   "outputs": [
    {
     "data": {
      "text/plain": [
       "74"
      ]
     },
     "execution_count": 46,
     "metadata": {},
     "output_type": "execute_result"
    }
   ],
   "source": [
    "len(training_set)"
   ]
  },
  {
   "cell_type": "code",
   "execution_count": 47,
   "metadata": {},
   "outputs": [
    {
     "data": {
      "text/plain": [
       "26"
      ]
     },
     "execution_count": 47,
     "metadata": {},
     "output_type": "execute_result"
    }
   ],
   "source": [
    "len(validation_set)"
   ]
  },
  {
   "cell_type": "code",
   "execution_count": 58,
   "metadata": {},
   "outputs": [],
   "source": [
    "import time"
   ]
  },
  {
   "cell_type": "code",
   "execution_count": 74,
   "metadata": {},
   "outputs": [
    {
     "name": "stdout",
     "output_type": "stream",
     "text": [
      "time = 0.0001621246 sec\n"
     ]
    }
   ],
   "source": [
    "t0=time.time()\n",
    "for i in range(int(1e3)):\n",
    "    x=0\n",
    "print('time = {:.10f} sec'.format(time.time()-t0))"
   ]
  },
  {
   "cell_type": "code",
   "execution_count": 55,
   "metadata": {},
   "outputs": [
    {
     "data": {
      "text/plain": [
       "datetime.time(0, 0)"
      ]
     },
     "execution_count": 55,
     "metadata": {},
     "output_type": "execute_result"
    }
   ],
   "source": [
    "datetime.time()"
   ]
  }
 ],
 "metadata": {
  "kernelspec": {
   "display_name": "Python 3",
   "language": "python",
   "name": "python3"
  },
  "language_info": {
   "codemirror_mode": {
    "name": "ipython",
    "version": 3
   },
   "file_extension": ".py",
   "mimetype": "text/x-python",
   "name": "python",
   "nbconvert_exporter": "python",
   "pygments_lexer": "ipython3",
   "version": "3.6.4"
  }
 },
 "nbformat": 4,
 "nbformat_minor": 2
}
